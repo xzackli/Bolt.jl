{
 "cells": [
  {
   "cell_type": "markdown",
   "id": "f50e5a4b",
   "metadata": {},
   "source": [
    "# Bolt.jl"
   ]
  },
  {
   "cell_type": "code",
   "execution_count": null,
   "id": "32100ad3",
   "metadata": {},
   "outputs": [],
   "source": [
    "using Bolt, Plots, ForwardDiff, LaTeXStrings, ThreadTools, Base.Threads"
   ]
  },
  {
   "cell_type": "markdown",
   "id": "29b9cc8b",
   "metadata": {},
   "source": [
    "This notebook walks you through some of the capabilities of Bolt - first through how to compute some of the main observables (and their derivatives) and then through how to look at some internal quantities."
   ]
  },
  {
   "cell_type": "markdown",
   "id": "1abca05b",
   "metadata": {},
   "source": [
    "!!! note\n",
    "\n",
    "    This is a low-level and fairly in-flux API, mainly meant as a snapshot of the existing capabilities. A user-friendly high-level API will be added in the future. "
   ]
  },
  {
   "cell_type": "markdown",
   "id": "48bef8f3",
   "metadata": {},
   "source": [
    "First, check how many threads we are using. See [here](https://docs.julialang.org/en/v1/manual/multi-threading/#Starting-Julia-with-multiple-threads) for how to start Julia with more threads, which will lead to better performance. "
   ]
  },
  {
   "cell_type": "code",
   "execution_count": null,
   "id": "d6813eed",
   "metadata": {},
   "outputs": [],
   "source": [
    "nthreads()"
   ]
  },
  {
   "cell_type": "markdown",
   "id": "0bd55a57",
   "metadata": {},
   "source": [
    "FRW Background setup"
   ]
  },
  {
   "cell_type": "code",
   "execution_count": null,
   "id": "fe3fe207",
   "metadata": {},
   "outputs": [],
   "source": [
    "# Assign cosmological parameters\n",
    "𝕡 = CosmoParams(Ω_c = 0.3) # set kwargs like so to change the default values\n",
    "\n",
    "function FRW_setup(𝕡)\n",
    "    # Compute expansion history quantities\n",
    "    bg = Background(𝕡)\n",
    "    # Compute ionization history (via RECFAST)\n",
    "    𝕣 = Bolt.RECFAST(bg=bg, Yp=𝕡.Y_p, OmegaB=𝕡.Ω_b, OmegaG=𝕡.Ω_r)\n",
    "    ih = IonizationHistory(𝕣, 𝕡, bg)\n",
    "    return bg, ih\n",
    "end\n",
    "\n",
    "bg, ih = FRW_setup(𝕡);"
   ]
  },
  {
   "cell_type": "markdown",
   "id": "e81ea556",
   "metadata": {},
   "source": [
    "### $P_{L}(k)$"
   ]
  },
  {
   "cell_type": "code",
   "execution_count": null,
   "id": "6d4a3c5e",
   "metadata": {},
   "outputs": [],
   "source": [
    "# Matter power spectrum\n",
    "kmin, kmax, nk = 10bg.H₀, 5000bg.H₀, 32\n",
    "ks = log10_k(kmin, kmax, nk) # k grid\n",
    "pL = tmap(k -> plin(k, 𝕡, bg, ih), ks)\n",
    "plot(\n",
    "    ks, vcat(pL...), \n",
    "    xscale=:log10, yscale=:log10, label=false,\n",
    "    xlabel=L\"k \\ [h/\\mathrm{Mpc}]\", ylabel=L\"P_L(k) \\ [\\mathrm{Mpc}/h]^3\"\n",
    ")"
   ]
  },
  {
   "cell_type": "code",
   "execution_count": null,
   "id": "a645b25c",
   "metadata": {},
   "outputs": [],
   "source": [
    "# Gradient wrt Ω_c\n",
    "# Define a function that changes 𝕡 - need to recompute background components, as they depend on Ω_c\n",
    "function pL_Ω_c(Ω_c::T) where T\n",
    "    𝕡 = CosmoParams{T}(Ω_c=Ω_c)\n",
    "    bg, ih = FRW_setup(𝕡)\n",
    "    return tmap(k -> plin(k, 𝕡, bg, ih)[1], ks)\n",
    "end\n",
    "∂pL_∂Ω_c = ForwardDiff.derivative(pL_Ω_c, 0.3);"
   ]
  },
  {
   "cell_type": "code",
   "execution_count": null,
   "id": "87b068e7",
   "metadata": {},
   "outputs": [],
   "source": [
    "plot(\n",
    "    ks, abs.(∂pL_∂Ω_c), \n",
    "    xscale=:log10, yscale=:log10, label=false,\n",
    "    xlabel=L\"k \\ [h/\\mathrm{Mpc}]\", ylabel=L\"\\vert \\partial_{\\Omega_c} P_L(k) \\vert\"\n",
    ")"
   ]
  },
  {
   "cell_type": "markdown",
   "id": "eb17b081",
   "metadata": {},
   "source": [
    "### $C^{TT}(\\ell)$"
   ]
  },
  {
   "cell_type": "code",
   "execution_count": null,
   "id": "a8ebd99a",
   "metadata": {},
   "outputs": [],
   "source": [
    "# CMB Cᵀᵀ(ℓ)\n",
    "ℓmin, ℓmax, nℓ = 2, 20, 1200\n",
    "ℓs = ℓmin:ℓmax:nℓ\n",
    "kmin, kmax, nk = 0.1bg.H₀, 1000bg.H₀, 100\n",
    "ks = quadratic_k(kmin, kmax, nk)\n",
    "sf = source_grid(𝕡, bg, ih, ks, BasicNewtonian()) # set up LOS source function interpolator\n",
    "Cᵀᵀ = cltt(ℓs, 𝕡, bg, ih, sf)\n",
    "p2 = plot(ℓs, (@. ℓs^2 * Cᵀᵀ), label=false, xlabel=L\"\\ell\", ylabel=L\"\\ell^2 C^{TT}(\\ell)\")"
   ]
  },
  {
   "cell_type": "code",
   "execution_count": null,
   "id": "2e390cb3",
   "metadata": {},
   "outputs": [],
   "source": [
    "# gradient wrt Ω_b\n",
    "function Cᵀᵀ_Ω_b(Ω_b::T) where T # type-stable wrapper\n",
    "    𝕡 = CosmoParams{T}(Ω_b=Ω_b)\n",
    "    bg, ih = FRW_setup(𝕡)\n",
    "    sf = source_grid(𝕡, bg, ih, ks, BasicNewtonian())\n",
    "    return cltt(ℓs, 𝕡, bg, ih, sf)\n",
    "end\n",
    "∂Cᵀᵀ_∂Ω_b = ForwardDiff.derivative(Cᵀᵀ_Ω_b,0.045);"
   ]
  },
  {
   "cell_type": "code",
   "execution_count": null,
   "id": "636919be",
   "metadata": {},
   "outputs": [],
   "source": [
    "plot(\n",
    "    ℓs, (@. ℓs^2 * ∂Cᵀᵀ_∂Ω_b), \n",
    "    label=false, xlabel=L\"\\ell\", ylabel=L\"\\ell^2 \\partial_{\\Omega_b} C^{TT}(\\ell)\"\n",
    ")\n"
   ]
  },
  {
   "cell_type": "markdown",
   "id": "f3c26ccc",
   "metadata": {},
   "source": [
    "## Some internal quantities"
   ]
  },
  {
   "cell_type": "markdown",
   "id": "58ee9c5d",
   "metadata": {},
   "source": [
    "Expansion history: \n"
   ]
  },
  {
   "cell_type": "code",
   "execution_count": null,
   "id": "64339718",
   "metadata": {},
   "outputs": [],
   "source": [
    "# Conformal time\n",
    "plot(bg.x_grid, bg.η, xlabel=L\"\\log(a)\", ylabel=L\"\\eta\", label=false, yscale=:log10)"
   ]
  },
  {
   "cell_type": "code",
   "execution_count": null,
   "id": "5b397cb8",
   "metadata": {},
   "outputs": [],
   "source": [
    "# Hubble parameter\n",
    "plot(bg.x_grid, bg.ℋ, xlabel=L\"\\log(a)\", ylabel=L\"\\mathcal{H}\", label=false, yscale=:log10)"
   ]
  },
  {
   "cell_type": "markdown",
   "id": "1874d833",
   "metadata": {},
   "source": [
    "Ionization history: \n"
   ]
  },
  {
   "cell_type": "code",
   "execution_count": null,
   "id": "dc524ce3",
   "metadata": {},
   "outputs": [],
   "source": [
    "# Free electron fraction\n",
    "plot(bg.x_grid, ih.Xₑ, xlabel=L\"\\log(a)\", ylabel=L\"X_{e}\", label=false)"
   ]
  },
  {
   "cell_type": "code",
   "execution_count": null,
   "id": "8baaa708",
   "metadata": {},
   "outputs": [],
   "source": [
    "# Visibility function\n",
    "plot(bg.x_grid, ih.g̃, xlabel=L\"\\log(a)\", ylabel=L\"g\", label=false)\n",
    "xlims!(-10, 0)"
   ]
  },
  {
   "cell_type": "code",
   "execution_count": null,
   "id": "92fa6ff3",
   "metadata": {},
   "outputs": [],
   "source": []
  }
 ],
 "metadata": {
  "kernelspec": {
   "display_name": "Julia 1.7.3 (threads)",
   "language": "julia",
   "name": "julia-1.7-threads"
  },
  "language_info": {
   "file_extension": ".jl",
   "mimetype": "application/julia",
   "name": "julia",
   "version": "1.7.3"
  }
 },
 "nbformat": 4,
 "nbformat_minor": 5
}
